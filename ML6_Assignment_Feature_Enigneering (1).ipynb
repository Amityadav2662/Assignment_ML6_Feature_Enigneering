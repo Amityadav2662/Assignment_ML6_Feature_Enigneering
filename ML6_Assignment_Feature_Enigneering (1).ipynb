{
 "cells": [
  {
   "cell_type": "code",
   "execution_count": 2,
   "id": "b424c9ec-1640-431a-ab55-f21d974a1ad8",
   "metadata": {},
   "outputs": [],
   "source": [
    "# Q1. Pearson correlation coefficient is a measure of the linear relationship between two variables. Suppose\n",
    "# you have collected data on the amount of time students spend studying for an exam and their final exam\n",
    "# scores. Calculate the Pearson correlation coefficient between these two variables and interpret the result.\n",
    "\n",
    "import pandas as pd\n",
    "df = pd.DataFrame({'Study_Time' : [9,6,8,10,11,6,4,7],\n",
    "              'Final_Score' : [80,75,79,90,95,70,50,77]})"
   ]
  },
  {
   "cell_type": "code",
   "execution_count": 3,
   "id": "58860209-ac5a-4a19-9be6-448f690702be",
   "metadata": {},
   "outputs": [
    {
     "data": {
      "text/html": [
       "<div>\n",
       "<style scoped>\n",
       "    .dataframe tbody tr th:only-of-type {\n",
       "        vertical-align: middle;\n",
       "    }\n",
       "\n",
       "    .dataframe tbody tr th {\n",
       "        vertical-align: top;\n",
       "    }\n",
       "\n",
       "    .dataframe thead th {\n",
       "        text-align: right;\n",
       "    }\n",
       "</style>\n",
       "<table border=\"1\" class=\"dataframe\">\n",
       "  <thead>\n",
       "    <tr style=\"text-align: right;\">\n",
       "      <th></th>\n",
       "      <th>Study_Time</th>\n",
       "      <th>Final_Score</th>\n",
       "    </tr>\n",
       "  </thead>\n",
       "  <tbody>\n",
       "    <tr>\n",
       "      <th>0</th>\n",
       "      <td>9</td>\n",
       "      <td>80</td>\n",
       "    </tr>\n",
       "    <tr>\n",
       "      <th>1</th>\n",
       "      <td>6</td>\n",
       "      <td>75</td>\n",
       "    </tr>\n",
       "    <tr>\n",
       "      <th>2</th>\n",
       "      <td>8</td>\n",
       "      <td>79</td>\n",
       "    </tr>\n",
       "    <tr>\n",
       "      <th>3</th>\n",
       "      <td>10</td>\n",
       "      <td>90</td>\n",
       "    </tr>\n",
       "    <tr>\n",
       "      <th>4</th>\n",
       "      <td>11</td>\n",
       "      <td>95</td>\n",
       "    </tr>\n",
       "    <tr>\n",
       "      <th>5</th>\n",
       "      <td>6</td>\n",
       "      <td>70</td>\n",
       "    </tr>\n",
       "    <tr>\n",
       "      <th>6</th>\n",
       "      <td>4</td>\n",
       "      <td>50</td>\n",
       "    </tr>\n",
       "    <tr>\n",
       "      <th>7</th>\n",
       "      <td>7</td>\n",
       "      <td>77</td>\n",
       "    </tr>\n",
       "  </tbody>\n",
       "</table>\n",
       "</div>"
      ],
      "text/plain": [
       "   Study_Time  Final_Score\n",
       "0           9           80\n",
       "1           6           75\n",
       "2           8           79\n",
       "3          10           90\n",
       "4          11           95\n",
       "5           6           70\n",
       "6           4           50\n",
       "7           7           77"
      ]
     },
     "execution_count": 3,
     "metadata": {},
     "output_type": "execute_result"
    }
   ],
   "source": [
    "df"
   ]
  },
  {
   "cell_type": "code",
   "execution_count": 6,
   "id": "c90f7715-ce45-45db-9bf4-46feca974f56",
   "metadata": {},
   "outputs": [
    {
     "data": {
      "text/plain": [
       "0.9462633809670079"
      ]
     },
     "execution_count": 6,
     "metadata": {},
     "output_type": "execute_result"
    }
   ],
   "source": [
    "corr_coeff = df['Study_Time'].corr(df['Final_Score'],method='pearson')\n",
    "corr_coeff"
   ]
  },
  {
   "cell_type": "code",
   "execution_count": 7,
   "id": "244d975b-213e-4364-9424-7b02b3fef3ea",
   "metadata": {},
   "outputs": [
    {
     "name": "stdout",
     "output_type": "stream",
     "text": [
      "The variables 'Study_Time' and 'Final_Score' have a positive correlation.\n"
     ]
    }
   ],
   "source": [
    "if corr_coeff > 0:\n",
    "    print(\"The variables 'Study_Time' and 'Final_Score' have a positive correlation.\")\n",
    "elif corr_coeff < 0:\n",
    "    print(\"The variables 'Study_Time' and 'Final_Score' have a negative correlation.\")\n",
    "else:\n",
    "    print(\"The variables 'Study_Time' and 'Final_Score' have little to no linear correlation.\")"
   ]
  },
  {
   "cell_type": "code",
   "execution_count": 9,
   "id": "a126ae15-4ded-474d-9c9b-7cc6d76348d2",
   "metadata": {},
   "outputs": [],
   "source": [
    "# Q2. Spearman's rank correlation is a measure of the monotonic relationship between two variables.\n",
    "# Suppose you have collected data on the amount of sleep individuals get each night and their overall job\n",
    "# satisfaction level on a scale of 1 to 10. Calculate the Spearman's rank correlation between these two\n",
    "# variables and interpret the result.\n",
    "\n",
    "import pandas as pd\n",
    "df = pd.DataFrame({'Sleep_Each_Night' : [8,9,6,6,5,4,7,10],\n",
    "              'Job_Satisfaction' : [9,10,8,8,6,5,4,7]})"
   ]
  },
  {
   "cell_type": "code",
   "execution_count": 10,
   "id": "2582a2d2-43af-4715-824e-69bbd5e2bb47",
   "metadata": {},
   "outputs": [
    {
     "data": {
      "text/html": [
       "<div>\n",
       "<style scoped>\n",
       "    .dataframe tbody tr th:only-of-type {\n",
       "        vertical-align: middle;\n",
       "    }\n",
       "\n",
       "    .dataframe tbody tr th {\n",
       "        vertical-align: top;\n",
       "    }\n",
       "\n",
       "    .dataframe thead th {\n",
       "        text-align: right;\n",
       "    }\n",
       "</style>\n",
       "<table border=\"1\" class=\"dataframe\">\n",
       "  <thead>\n",
       "    <tr style=\"text-align: right;\">\n",
       "      <th></th>\n",
       "      <th>Sleep_Each_Night</th>\n",
       "      <th>Job_Satisfaction</th>\n",
       "    </tr>\n",
       "  </thead>\n",
       "  <tbody>\n",
       "    <tr>\n",
       "      <th>0</th>\n",
       "      <td>8</td>\n",
       "      <td>9</td>\n",
       "    </tr>\n",
       "    <tr>\n",
       "      <th>1</th>\n",
       "      <td>9</td>\n",
       "      <td>10</td>\n",
       "    </tr>\n",
       "    <tr>\n",
       "      <th>2</th>\n",
       "      <td>6</td>\n",
       "      <td>8</td>\n",
       "    </tr>\n",
       "    <tr>\n",
       "      <th>3</th>\n",
       "      <td>6</td>\n",
       "      <td>8</td>\n",
       "    </tr>\n",
       "    <tr>\n",
       "      <th>4</th>\n",
       "      <td>5</td>\n",
       "      <td>6</td>\n",
       "    </tr>\n",
       "    <tr>\n",
       "      <th>5</th>\n",
       "      <td>4</td>\n",
       "      <td>5</td>\n",
       "    </tr>\n",
       "    <tr>\n",
       "      <th>6</th>\n",
       "      <td>7</td>\n",
       "      <td>4</td>\n",
       "    </tr>\n",
       "    <tr>\n",
       "      <th>7</th>\n",
       "      <td>10</td>\n",
       "      <td>7</td>\n",
       "    </tr>\n",
       "  </tbody>\n",
       "</table>\n",
       "</div>"
      ],
      "text/plain": [
       "   Sleep_Each_Night  Job_Satisfaction\n",
       "0                 8                 9\n",
       "1                 9                10\n",
       "2                 6                 8\n",
       "3                 6                 8\n",
       "4                 5                 6\n",
       "5                 4                 5\n",
       "6                 7                 4\n",
       "7                10                 7"
      ]
     },
     "execution_count": 10,
     "metadata": {},
     "output_type": "execute_result"
    }
   ],
   "source": [
    "df"
   ]
  },
  {
   "cell_type": "code",
   "execution_count": 18,
   "id": "f61928df-71f3-4159-8f34-953c20829e6b",
   "metadata": {},
   "outputs": [
    {
     "data": {
      "text/plain": [
       "0.4698795180722891"
      ]
     },
     "execution_count": 18,
     "metadata": {},
     "output_type": "execute_result"
    }
   ],
   "source": [
    "corr_df = df['Sleep_Each_Night'].corr(df['Job_Satisfaction'],method='spearman')\n",
    "corr_df"
   ]
  },
  {
   "cell_type": "code",
   "execution_count": 17,
   "id": "c2474af7-677b-4adf-9b07-275a59265a9a",
   "metadata": {},
   "outputs": [
    {
     "name": "stdout",
     "output_type": "stream",
     "text": [
      "The variables 'Sleep_Each_Night' and 'Job_Satisfaction' have a positive montonic correlation.\n"
     ]
    }
   ],
   "source": [
    "if corr_df > 0:\n",
    "    print(\"The variables 'Sleep_Each_Night' and 'Job_Satisfaction' have a positive montonic correlation.\")\n",
    "elif corr_df < 0:\n",
    "    print(\"The variables 'Sleep_Each_Night' and 'Job_Satisfaction' have a negative montonic correlation.\")\n",
    "else:\n",
    "    print(\"The variables 'Sleep_Each_Night' and 'Job_Satisfaction' have little to no monotonic correlation.\")"
   ]
  },
  {
   "cell_type": "code",
   "execution_count": 37,
   "id": "a64f3d30-5537-4eae-8ad9-35c707b766ea",
   "metadata": {},
   "outputs": [],
   "source": [
    "# Q3. Suppose you are conducting a study to examine the relationship between the number of hours of\n",
    "# exercise per week and body mass index (BMI) in a sample of adults. You collected data on both variables\n",
    "# for 50 participants. Calculate the Pearson correlation coefficient and the Spearman's rank correlation\n",
    "# between these two variables and compare the results.\n",
    "\n",
    "import pandas as pd\n",
    "df =  pd.DataFrame({'Exercise_Hour' : [4,5,7,2,3,4,6,7,1,2]*5,\n",
    "              'BMI' : [22,23,27.3,28,32,23.5,24.8,22.5,30,21]*5})"
   ]
  },
  {
   "cell_type": "code",
   "execution_count": 22,
   "id": "72e20636-67f0-490c-b8f6-415e606e3990",
   "metadata": {},
   "outputs": [
    {
     "data": {
      "text/html": [
       "<div>\n",
       "<style scoped>\n",
       "    .dataframe tbody tr th:only-of-type {\n",
       "        vertical-align: middle;\n",
       "    }\n",
       "\n",
       "    .dataframe tbody tr th {\n",
       "        vertical-align: top;\n",
       "    }\n",
       "\n",
       "    .dataframe thead th {\n",
       "        text-align: right;\n",
       "    }\n",
       "</style>\n",
       "<table border=\"1\" class=\"dataframe\">\n",
       "  <thead>\n",
       "    <tr style=\"text-align: right;\">\n",
       "      <th></th>\n",
       "      <th>Exercise_Hour</th>\n",
       "      <th>BMI</th>\n",
       "    </tr>\n",
       "  </thead>\n",
       "  <tbody>\n",
       "    <tr>\n",
       "      <th>0</th>\n",
       "      <td>4</td>\n",
       "      <td>22.0</td>\n",
       "    </tr>\n",
       "    <tr>\n",
       "      <th>1</th>\n",
       "      <td>5</td>\n",
       "      <td>23.0</td>\n",
       "    </tr>\n",
       "    <tr>\n",
       "      <th>2</th>\n",
       "      <td>7</td>\n",
       "      <td>27.3</td>\n",
       "    </tr>\n",
       "    <tr>\n",
       "      <th>3</th>\n",
       "      <td>2</td>\n",
       "      <td>28.0</td>\n",
       "    </tr>\n",
       "    <tr>\n",
       "      <th>4</th>\n",
       "      <td>3</td>\n",
       "      <td>32.0</td>\n",
       "    </tr>\n",
       "  </tbody>\n",
       "</table>\n",
       "</div>"
      ],
      "text/plain": [
       "   Exercise_Hour   BMI\n",
       "0              4  22.0\n",
       "1              5  23.0\n",
       "2              7  27.3\n",
       "3              2  28.0\n",
       "4              3  32.0"
      ]
     },
     "execution_count": 22,
     "metadata": {},
     "output_type": "execute_result"
    }
   ],
   "source": [
    "df.head()"
   ]
  },
  {
   "cell_type": "code",
   "execution_count": 35,
   "id": "77352a9b-7901-442f-8292-9b9a5f1ef972",
   "metadata": {},
   "outputs": [
    {
     "data": {
      "text/plain": [
       "-0.3285247903538866"
      ]
     },
     "execution_count": 35,
     "metadata": {},
     "output_type": "execute_result"
    }
   ],
   "source": [
    "corr_pear = df['Exercise_Hour'].corr(df['BMI'],method='pearson')\n",
    "corr_pear"
   ]
  },
  {
   "cell_type": "code",
   "execution_count": 34,
   "id": "0a588228-782d-438f-8ea1-f03c307057a7",
   "metadata": {},
   "outputs": [
    {
     "data": {
      "text/plain": [
       "-0.2630080105579639"
      ]
     },
     "execution_count": 34,
     "metadata": {},
     "output_type": "execute_result"
    }
   ],
   "source": [
    "corr_spear = df['Exercise_Hour'].corr(df['BMI'],method='spearman')\n",
    "corr_spear"
   ]
  },
  {
   "cell_type": "code",
   "execution_count": 36,
   "id": "a45ab9b6-06b3-49fc-87e7-aedd6fe3b330",
   "metadata": {},
   "outputs": [
    {
     "name": "stdout",
     "output_type": "stream",
     "text": [
      "The Pearson correlation coefficient suggests a stronger linear relationship.\n"
     ]
    }
   ],
   "source": [
    "if abs(corr_pear) > abs(corr_spear):\n",
    "    print(\"The Pearson correlation coefficient suggests a stronger linear relationship.\")\n",
    "elif abs(corr_pear) < abs(corr_spear):\n",
    "    print(\"The Spearman's rank correlation coefficient suggests a stronger monotonic relationship.\")\n",
    "else:\n",
    "    print(\"Both correlation coefficients suggest similar strength of the relationship.\")"
   ]
  },
  {
   "cell_type": "code",
   "execution_count": 39,
   "id": "51053bd7-c404-4b5b-99c3-b770b2bdba81",
   "metadata": {},
   "outputs": [],
   "source": [
    "# Q4. A researcher is interested in examining the relationship between the number of hours individuals\n",
    "# spend watching television per day and their level of physical activity. The researcher collected data on\n",
    "# both variables from a sample of 50 participants. Calculate the Pearson correlation coefficient between\n",
    "# these two variables.\n",
    "\n",
    "import pandas as pd\n",
    "df =  pd.DataFrame({'Television_spend_time' : [4,5,7,2,3,4,6,7,1,2]*5,\n",
    "                    'Physical_Activity' : [2,1,3,4,5,3,7,8,9,6]*5})"
   ]
  },
  {
   "cell_type": "code",
   "execution_count": 41,
   "id": "bafcfa20-cf0d-4d71-b76f-c697e61bc0f5",
   "metadata": {},
   "outputs": [
    {
     "data": {
      "text/html": [
       "<div>\n",
       "<style scoped>\n",
       "    .dataframe tbody tr th:only-of-type {\n",
       "        vertical-align: middle;\n",
       "    }\n",
       "\n",
       "    .dataframe tbody tr th {\n",
       "        vertical-align: top;\n",
       "    }\n",
       "\n",
       "    .dataframe thead th {\n",
       "        text-align: right;\n",
       "    }\n",
       "</style>\n",
       "<table border=\"1\" class=\"dataframe\">\n",
       "  <thead>\n",
       "    <tr style=\"text-align: right;\">\n",
       "      <th></th>\n",
       "      <th>Television_spend_time</th>\n",
       "      <th>Physical_Activity</th>\n",
       "    </tr>\n",
       "  </thead>\n",
       "  <tbody>\n",
       "    <tr>\n",
       "      <th>0</th>\n",
       "      <td>4</td>\n",
       "      <td>2</td>\n",
       "    </tr>\n",
       "    <tr>\n",
       "      <th>1</th>\n",
       "      <td>5</td>\n",
       "      <td>1</td>\n",
       "    </tr>\n",
       "    <tr>\n",
       "      <th>2</th>\n",
       "      <td>7</td>\n",
       "      <td>3</td>\n",
       "    </tr>\n",
       "    <tr>\n",
       "      <th>3</th>\n",
       "      <td>2</td>\n",
       "      <td>4</td>\n",
       "    </tr>\n",
       "    <tr>\n",
       "      <th>4</th>\n",
       "      <td>3</td>\n",
       "      <td>5</td>\n",
       "    </tr>\n",
       "  </tbody>\n",
       "</table>\n",
       "</div>"
      ],
      "text/plain": [
       "   Television_spend_time  Physical_Activity\n",
       "0                      4                  2\n",
       "1                      5                  1\n",
       "2                      7                  3\n",
       "3                      2                  4\n",
       "4                      3                  5"
      ]
     },
     "execution_count": 41,
     "metadata": {},
     "output_type": "execute_result"
    }
   ],
   "source": [
    "df.head()"
   ]
  },
  {
   "cell_type": "code",
   "execution_count": 43,
   "id": "b0841d91-691b-4a93-b948-21e2a7720073",
   "metadata": {},
   "outputs": [
    {
     "data": {
      "text/html": [
       "<div>\n",
       "<style scoped>\n",
       "    .dataframe tbody tr th:only-of-type {\n",
       "        vertical-align: middle;\n",
       "    }\n",
       "\n",
       "    .dataframe tbody tr th {\n",
       "        vertical-align: top;\n",
       "    }\n",
       "\n",
       "    .dataframe thead th {\n",
       "        text-align: right;\n",
       "    }\n",
       "</style>\n",
       "<table border=\"1\" class=\"dataframe\">\n",
       "  <thead>\n",
       "    <tr style=\"text-align: right;\">\n",
       "      <th></th>\n",
       "      <th>Television_spend_time</th>\n",
       "      <th>Physical_Activity</th>\n",
       "    </tr>\n",
       "  </thead>\n",
       "  <tbody>\n",
       "    <tr>\n",
       "      <th>Television_spend_time</th>\n",
       "      <td>1.000000</td>\n",
       "      <td>-0.172541</td>\n",
       "    </tr>\n",
       "    <tr>\n",
       "      <th>Physical_Activity</th>\n",
       "      <td>-0.172541</td>\n",
       "      <td>1.000000</td>\n",
       "    </tr>\n",
       "  </tbody>\n",
       "</table>\n",
       "</div>"
      ],
      "text/plain": [
       "                       Television_spend_time  Physical_Activity\n",
       "Television_spend_time               1.000000          -0.172541\n",
       "Physical_Activity                  -0.172541           1.000000"
      ]
     },
     "execution_count": 43,
     "metadata": {},
     "output_type": "execute_result"
    }
   ],
   "source": [
    "df.corr(method='pearson')"
   ]
  },
  {
   "cell_type": "code",
   "execution_count": 66,
   "id": "ab5961dc-eef2-452f-a759-83157b2e4c4b",
   "metadata": {},
   "outputs": [],
   "source": [
    "# Q5. A survey was conducted to examine the relationship between age and preference for a particular\n",
    "# brand of soft drink. The survey results are shown below:\n",
    "# Age(Years)      Soft drink Preference\n",
    "#    25               Coke\n",
    "#    42               Pepsi\n",
    "#    37             Mountain Dew\n",
    "#    19               Coke\n",
    "#    31               Pepsi\n",
    "#    28               Coke\n",
    "\n",
    "\n",
    "import pandas as pd\n",
    "df = pd.DataFrame({'Age(Years)' : [25,42,37,19,31,28],\n",
    "              'Soft_Drink_Prefrence' : ['Coke','Pepsi','Mountain Dew','Coke','Pepsi','Coke']})"
   ]
  },
  {
   "cell_type": "code",
   "execution_count": 67,
   "id": "73560ef8-6e21-42ce-a0ae-e09c914d5e29",
   "metadata": {},
   "outputs": [
    {
     "data": {
      "text/html": [
       "<div>\n",
       "<style scoped>\n",
       "    .dataframe tbody tr th:only-of-type {\n",
       "        vertical-align: middle;\n",
       "    }\n",
       "\n",
       "    .dataframe tbody tr th {\n",
       "        vertical-align: top;\n",
       "    }\n",
       "\n",
       "    .dataframe thead th {\n",
       "        text-align: right;\n",
       "    }\n",
       "</style>\n",
       "<table border=\"1\" class=\"dataframe\">\n",
       "  <thead>\n",
       "    <tr style=\"text-align: right;\">\n",
       "      <th></th>\n",
       "      <th>Age(Years)</th>\n",
       "      <th>Soft_Drink_Prefrence</th>\n",
       "    </tr>\n",
       "  </thead>\n",
       "  <tbody>\n",
       "    <tr>\n",
       "      <th>0</th>\n",
       "      <td>25</td>\n",
       "      <td>Coke</td>\n",
       "    </tr>\n",
       "    <tr>\n",
       "      <th>1</th>\n",
       "      <td>42</td>\n",
       "      <td>Pepsi</td>\n",
       "    </tr>\n",
       "    <tr>\n",
       "      <th>2</th>\n",
       "      <td>37</td>\n",
       "      <td>Mountain Dew</td>\n",
       "    </tr>\n",
       "    <tr>\n",
       "      <th>3</th>\n",
       "      <td>19</td>\n",
       "      <td>Coke</td>\n",
       "    </tr>\n",
       "    <tr>\n",
       "      <th>4</th>\n",
       "      <td>31</td>\n",
       "      <td>Pepsi</td>\n",
       "    </tr>\n",
       "    <tr>\n",
       "      <th>5</th>\n",
       "      <td>28</td>\n",
       "      <td>Coke</td>\n",
       "    </tr>\n",
       "  </tbody>\n",
       "</table>\n",
       "</div>"
      ],
      "text/plain": [
       "   Age(Years) Soft_Drink_Prefrence\n",
       "0          25                 Coke\n",
       "1          42                Pepsi\n",
       "2          37         Mountain Dew\n",
       "3          19                 Coke\n",
       "4          31                Pepsi\n",
       "5          28                 Coke"
      ]
     },
     "execution_count": 67,
     "metadata": {},
     "output_type": "execute_result"
    }
   ],
   "source": [
    "df"
   ]
  },
  {
   "cell_type": "code",
   "execution_count": 68,
   "id": "7226a78b-8aa1-462b-baad-abffb8943650",
   "metadata": {},
   "outputs": [
    {
     "data": {
      "text/plain": [
       "{'Coke': 24.0, 'Mountain Dew': 37.0, 'Pepsi': 36.5}"
      ]
     },
     "execution_count": 68,
     "metadata": {},
     "output_type": "execute_result"
    }
   ],
   "source": [
    "mean_age = df.groupby('Soft_Drink_Prefrence')['Age(Years)'].mean().to_dict()\n",
    "mean_age"
   ]
  },
  {
   "cell_type": "code",
   "execution_count": 69,
   "id": "20fe764c-4c4a-429c-aebd-0776d120cdcd",
   "metadata": {},
   "outputs": [],
   "source": [
    "df['encoded_age'] = df['Soft_Drink_Prefrence'].map(mean_age)"
   ]
  },
  {
   "cell_type": "code",
   "execution_count": 70,
   "id": "d6d86d43-3b93-44ef-94f9-8638d21dee04",
   "metadata": {},
   "outputs": [
    {
     "data": {
      "text/html": [
       "<div>\n",
       "<style scoped>\n",
       "    .dataframe tbody tr th:only-of-type {\n",
       "        vertical-align: middle;\n",
       "    }\n",
       "\n",
       "    .dataframe tbody tr th {\n",
       "        vertical-align: top;\n",
       "    }\n",
       "\n",
       "    .dataframe thead th {\n",
       "        text-align: right;\n",
       "    }\n",
       "</style>\n",
       "<table border=\"1\" class=\"dataframe\">\n",
       "  <thead>\n",
       "    <tr style=\"text-align: right;\">\n",
       "      <th></th>\n",
       "      <th>Age(Years)</th>\n",
       "      <th>Soft_Drink_Prefrence</th>\n",
       "      <th>encoded_age</th>\n",
       "    </tr>\n",
       "  </thead>\n",
       "  <tbody>\n",
       "    <tr>\n",
       "      <th>0</th>\n",
       "      <td>25</td>\n",
       "      <td>Coke</td>\n",
       "      <td>24.0</td>\n",
       "    </tr>\n",
       "    <tr>\n",
       "      <th>1</th>\n",
       "      <td>42</td>\n",
       "      <td>Pepsi</td>\n",
       "      <td>36.5</td>\n",
       "    </tr>\n",
       "    <tr>\n",
       "      <th>2</th>\n",
       "      <td>37</td>\n",
       "      <td>Mountain Dew</td>\n",
       "      <td>37.0</td>\n",
       "    </tr>\n",
       "    <tr>\n",
       "      <th>3</th>\n",
       "      <td>19</td>\n",
       "      <td>Coke</td>\n",
       "      <td>24.0</td>\n",
       "    </tr>\n",
       "    <tr>\n",
       "      <th>4</th>\n",
       "      <td>31</td>\n",
       "      <td>Pepsi</td>\n",
       "      <td>36.5</td>\n",
       "    </tr>\n",
       "    <tr>\n",
       "      <th>5</th>\n",
       "      <td>28</td>\n",
       "      <td>Coke</td>\n",
       "      <td>24.0</td>\n",
       "    </tr>\n",
       "  </tbody>\n",
       "</table>\n",
       "</div>"
      ],
      "text/plain": [
       "   Age(Years) Soft_Drink_Prefrence  encoded_age\n",
       "0          25                 Coke         24.0\n",
       "1          42                Pepsi         36.5\n",
       "2          37         Mountain Dew         37.0\n",
       "3          19                 Coke         24.0\n",
       "4          31                Pepsi         36.5\n",
       "5          28                 Coke         24.0"
      ]
     },
     "execution_count": 70,
     "metadata": {},
     "output_type": "execute_result"
    }
   ],
   "source": [
    "df"
   ]
  },
  {
   "cell_type": "code",
   "execution_count": 71,
   "id": "7b9f01ac-52cf-43d4-ae6e-e157842559e2",
   "metadata": {},
   "outputs": [],
   "source": [
    "# Q6. A company is interested in examining the relationship between the number of sales calls made per day\n",
    "# and the number of sales made per week. The company collected data on both variables from a sample of\n",
    "# 30 sales representatives. Calculate the Pearson correlation coefficient between these two variables.\n",
    "\n",
    "import pandas as pd\n",
    "df =  pd.DataFrame({'Sales_call_per_day' : [10,15,18,20,14,12,20,8,14,19]*3,\n",
    "                    'Sales_made_per_week' : [25,30,35,40,24,29,45,35,20,55]*3})"
   ]
  },
  {
   "cell_type": "code",
   "execution_count": 73,
   "id": "b8305ab8-56a2-4f51-a086-45d34167db50",
   "metadata": {},
   "outputs": [
    {
     "data": {
      "text/html": [
       "<div>\n",
       "<style scoped>\n",
       "    .dataframe tbody tr th:only-of-type {\n",
       "        vertical-align: middle;\n",
       "    }\n",
       "\n",
       "    .dataframe tbody tr th {\n",
       "        vertical-align: top;\n",
       "    }\n",
       "\n",
       "    .dataframe thead th {\n",
       "        text-align: right;\n",
       "    }\n",
       "</style>\n",
       "<table border=\"1\" class=\"dataframe\">\n",
       "  <thead>\n",
       "    <tr style=\"text-align: right;\">\n",
       "      <th></th>\n",
       "      <th>Sales_call_per_day</th>\n",
       "      <th>Sales_made_per_week</th>\n",
       "    </tr>\n",
       "  </thead>\n",
       "  <tbody>\n",
       "    <tr>\n",
       "      <th>0</th>\n",
       "      <td>10</td>\n",
       "      <td>25</td>\n",
       "    </tr>\n",
       "    <tr>\n",
       "      <th>1</th>\n",
       "      <td>15</td>\n",
       "      <td>30</td>\n",
       "    </tr>\n",
       "    <tr>\n",
       "      <th>2</th>\n",
       "      <td>18</td>\n",
       "      <td>35</td>\n",
       "    </tr>\n",
       "    <tr>\n",
       "      <th>3</th>\n",
       "      <td>20</td>\n",
       "      <td>40</td>\n",
       "    </tr>\n",
       "    <tr>\n",
       "      <th>4</th>\n",
       "      <td>14</td>\n",
       "      <td>24</td>\n",
       "    </tr>\n",
       "  </tbody>\n",
       "</table>\n",
       "</div>"
      ],
      "text/plain": [
       "   Sales_call_per_day  Sales_made_per_week\n",
       "0                  10                   25\n",
       "1                  15                   30\n",
       "2                  18                   35\n",
       "3                  20                   40\n",
       "4                  14                   24"
      ]
     },
     "execution_count": 73,
     "metadata": {},
     "output_type": "execute_result"
    }
   ],
   "source": [
    "df.head()"
   ]
  },
  {
   "cell_type": "code",
   "execution_count": 74,
   "id": "fc8d5dc2-3932-436b-8b6e-0dc508e70b87",
   "metadata": {},
   "outputs": [
    {
     "data": {
      "text/html": [
       "<div>\n",
       "<style scoped>\n",
       "    .dataframe tbody tr th:only-of-type {\n",
       "        vertical-align: middle;\n",
       "    }\n",
       "\n",
       "    .dataframe tbody tr th {\n",
       "        vertical-align: top;\n",
       "    }\n",
       "\n",
       "    .dataframe thead th {\n",
       "        text-align: right;\n",
       "    }\n",
       "</style>\n",
       "<table border=\"1\" class=\"dataframe\">\n",
       "  <thead>\n",
       "    <tr style=\"text-align: right;\">\n",
       "      <th></th>\n",
       "      <th>Sales_call_per_day</th>\n",
       "      <th>Sales_made_per_week</th>\n",
       "    </tr>\n",
       "  </thead>\n",
       "  <tbody>\n",
       "    <tr>\n",
       "      <th>Sales_call_per_day</th>\n",
       "      <td>1.000000</td>\n",
       "      <td>0.617093</td>\n",
       "    </tr>\n",
       "    <tr>\n",
       "      <th>Sales_made_per_week</th>\n",
       "      <td>0.617093</td>\n",
       "      <td>1.000000</td>\n",
       "    </tr>\n",
       "  </tbody>\n",
       "</table>\n",
       "</div>"
      ],
      "text/plain": [
       "                     Sales_call_per_day  Sales_made_per_week\n",
       "Sales_call_per_day             1.000000             0.617093\n",
       "Sales_made_per_week            0.617093             1.000000"
      ]
     },
     "execution_count": 74,
     "metadata": {},
     "output_type": "execute_result"
    }
   ],
   "source": [
    "df.corr(method='pearson')"
   ]
  },
  {
   "cell_type": "code",
   "execution_count": null,
   "id": "e428b56d-813d-4187-9e81-da5dbd435928",
   "metadata": {},
   "outputs": [],
   "source": []
  }
 ],
 "metadata": {
  "kernelspec": {
   "display_name": "Python 3 (ipykernel)",
   "language": "python",
   "name": "python3"
  },
  "language_info": {
   "codemirror_mode": {
    "name": "ipython",
    "version": 3
   },
   "file_extension": ".py",
   "mimetype": "text/x-python",
   "name": "python",
   "nbconvert_exporter": "python",
   "pygments_lexer": "ipython3",
   "version": "3.10.8"
  }
 },
 "nbformat": 4,
 "nbformat_minor": 5
}
